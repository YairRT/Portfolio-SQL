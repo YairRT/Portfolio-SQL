{
 "cells": [
  {
   "cell_type": "code",
   "execution_count": 1,
   "id": "ba0487c7",
   "metadata": {},
   "outputs": [],
   "source": [
    "import psycopg2 as pg2\n",
    "from psycopg2.extensions import ISOLATION_LEVEL_AUTOCOMMIT"
   ]
  },
  {
   "cell_type": "markdown",
   "id": "4322a641",
   "metadata": {},
   "source": [
    "# Create dabatase 'bank'"
   ]
  },
  {
   "cell_type": "code",
   "execution_count": null,
   "id": "e017c28c",
   "metadata": {},
   "outputs": [],
   "source": [
    "secret = 'password'\n",
    "conn = pg2.connect(user='postgres', password=secret)"
   ]
  },
  {
   "cell_type": "code",
   "execution_count": null,
   "id": "6c9b3cab",
   "metadata": {},
   "outputs": [],
   "source": [
    "conn.set_isolation_level(ISOLATION_LEVEL_AUTOCOMMIT)"
   ]
  },
  {
   "cell_type": "code",
   "execution_count": null,
   "id": "784db284",
   "metadata": {},
   "outputs": [],
   "source": [
    "cursor = conn.cursor()\n",
    "nameDB = 'bank'\n",
    "createDB_string = 'CREATE DATABASE ' + nameDB "
   ]
  },
  {
   "cell_type": "code",
   "execution_count": null,
   "id": "dc11c485",
   "metadata": {},
   "outputs": [],
   "source": [
    "cursor.execute(createDB_string)"
   ]
  },
  {
   "cell_type": "markdown",
   "id": "9b18cd54",
   "metadata": {},
   "source": [
    "# Work with 'bank' database"
   ]
  },
  {
   "cell_type": "code",
   "execution_count": 2,
   "id": "005612ba",
   "metadata": {},
   "outputs": [],
   "source": [
    "databaseName = 'bank'\n",
    "secret = 'password'\n",
    "conn = pg2.connect(database = databaseName, user = 'postgres', password = secret)\n",
    "cursor = conn.cursor()"
   ]
  },
  {
   "cell_type": "markdown",
   "id": "238848e8",
   "metadata": {},
   "source": [
    "# Create table\n",
    "\n",
    "Code to create a SQL table"
   ]
  },
  {
   "cell_type": "code",
   "execution_count": null,
   "id": "c3cb0866",
   "metadata": {},
   "outputs": [],
   "source": [
    "cursor.execute(\n",
    "\"\"\"CREATE TABLE bank(\n",
    "age int, job VARCHAR(50),marital VARCHAR(50),\n",
    "education VARCHAR(50), default_value VARCHAR(50), \n",
    "balance int, housing VARCHAR(50),\n",
    "loan VARCHAR(50), contact VARCHAR(50),\n",
    "day int, month VARCHAR(50),\n",
    "duration int, campaign int,\n",
    "pdays int,\n",
    "previous int, poutcome VARCHAR(50),\n",
    "deposit VARCHAR(50)\n",
    ");\"\"\")b\n"
   ]
  },
  {
   "cell_type": "markdown",
   "id": "17614233",
   "metadata": {},
   "source": [
    "### Reas CSV files\n"
   ]
  },
  {
   "cell_type": "code",
   "execution_count": 3,
   "id": "5b63783d",
   "metadata": {},
   "outputs": [],
   "source": [
    "import pandas as pd\n",
    "from sqlalchemy import create_engine\n",
    "bank = pd.read_csv('bank.csv')"
   ]
  },
  {
   "cell_type": "code",
   "execution_count": 11,
   "id": "2ff3c176",
   "metadata": {},
   "outputs": [
    {
     "data": {
      "text/html": [
       "<div>\n",
       "<style scoped>\n",
       "    .dataframe tbody tr th:only-of-type {\n",
       "        vertical-align: middle;\n",
       "    }\n",
       "\n",
       "    .dataframe tbody tr th {\n",
       "        vertical-align: top;\n",
       "    }\n",
       "\n",
       "    .dataframe thead th {\n",
       "        text-align: right;\n",
       "    }\n",
       "</style>\n",
       "<table border=\"1\" class=\"dataframe\">\n",
       "  <thead>\n",
       "    <tr style=\"text-align: right;\">\n",
       "      <th></th>\n",
       "      <th>age</th>\n",
       "      <th>job</th>\n",
       "      <th>marital</th>\n",
       "      <th>education</th>\n",
       "      <th>default</th>\n",
       "      <th>balance</th>\n",
       "      <th>housing</th>\n",
       "      <th>loan</th>\n",
       "      <th>contact</th>\n",
       "      <th>day</th>\n",
       "      <th>month</th>\n",
       "      <th>duration</th>\n",
       "      <th>campaign</th>\n",
       "      <th>pdays</th>\n",
       "      <th>previous</th>\n",
       "      <th>poutcome</th>\n",
       "      <th>deposit</th>\n",
       "    </tr>\n",
       "  </thead>\n",
       "  <tbody>\n",
       "    <tr>\n",
       "      <th>0</th>\n",
       "      <td>59</td>\n",
       "      <td>admin.</td>\n",
       "      <td>married</td>\n",
       "      <td>secondary</td>\n",
       "      <td>no</td>\n",
       "      <td>2343</td>\n",
       "      <td>yes</td>\n",
       "      <td>no</td>\n",
       "      <td>unknown</td>\n",
       "      <td>5</td>\n",
       "      <td>may</td>\n",
       "      <td>1042</td>\n",
       "      <td>1</td>\n",
       "      <td>-1</td>\n",
       "      <td>0</td>\n",
       "      <td>unknown</td>\n",
       "      <td>yes</td>\n",
       "    </tr>\n",
       "    <tr>\n",
       "      <th>1</th>\n",
       "      <td>56</td>\n",
       "      <td>admin.</td>\n",
       "      <td>married</td>\n",
       "      <td>secondary</td>\n",
       "      <td>no</td>\n",
       "      <td>45</td>\n",
       "      <td>no</td>\n",
       "      <td>no</td>\n",
       "      <td>unknown</td>\n",
       "      <td>5</td>\n",
       "      <td>may</td>\n",
       "      <td>1467</td>\n",
       "      <td>1</td>\n",
       "      <td>-1</td>\n",
       "      <td>0</td>\n",
       "      <td>unknown</td>\n",
       "      <td>yes</td>\n",
       "    </tr>\n",
       "    <tr>\n",
       "      <th>2</th>\n",
       "      <td>41</td>\n",
       "      <td>technician</td>\n",
       "      <td>married</td>\n",
       "      <td>secondary</td>\n",
       "      <td>no</td>\n",
       "      <td>1270</td>\n",
       "      <td>yes</td>\n",
       "      <td>no</td>\n",
       "      <td>unknown</td>\n",
       "      <td>5</td>\n",
       "      <td>may</td>\n",
       "      <td>1389</td>\n",
       "      <td>1</td>\n",
       "      <td>-1</td>\n",
       "      <td>0</td>\n",
       "      <td>unknown</td>\n",
       "      <td>yes</td>\n",
       "    </tr>\n",
       "    <tr>\n",
       "      <th>3</th>\n",
       "      <td>55</td>\n",
       "      <td>services</td>\n",
       "      <td>married</td>\n",
       "      <td>secondary</td>\n",
       "      <td>no</td>\n",
       "      <td>2476</td>\n",
       "      <td>yes</td>\n",
       "      <td>no</td>\n",
       "      <td>unknown</td>\n",
       "      <td>5</td>\n",
       "      <td>may</td>\n",
       "      <td>579</td>\n",
       "      <td>1</td>\n",
       "      <td>-1</td>\n",
       "      <td>0</td>\n",
       "      <td>unknown</td>\n",
       "      <td>yes</td>\n",
       "    </tr>\n",
       "    <tr>\n",
       "      <th>4</th>\n",
       "      <td>54</td>\n",
       "      <td>admin.</td>\n",
       "      <td>married</td>\n",
       "      <td>tertiary</td>\n",
       "      <td>no</td>\n",
       "      <td>184</td>\n",
       "      <td>no</td>\n",
       "      <td>no</td>\n",
       "      <td>unknown</td>\n",
       "      <td>5</td>\n",
       "      <td>may</td>\n",
       "      <td>673</td>\n",
       "      <td>2</td>\n",
       "      <td>-1</td>\n",
       "      <td>0</td>\n",
       "      <td>unknown</td>\n",
       "      <td>yes</td>\n",
       "    </tr>\n",
       "  </tbody>\n",
       "</table>\n",
       "</div>"
      ],
      "text/plain": [
       "   age         job  marital  education default  balance housing loan  contact  \\\n",
       "0   59      admin.  married  secondary      no     2343     yes   no  unknown   \n",
       "1   56      admin.  married  secondary      no       45      no   no  unknown   \n",
       "2   41  technician  married  secondary      no     1270     yes   no  unknown   \n",
       "3   55    services  married  secondary      no     2476     yes   no  unknown   \n",
       "4   54      admin.  married   tertiary      no      184      no   no  unknown   \n",
       "\n",
       "   day month  duration  campaign  pdays  previous poutcome deposit  \n",
       "0    5   may      1042         1     -1         0  unknown     yes  \n",
       "1    5   may      1467         1     -1         0  unknown     yes  \n",
       "2    5   may      1389         1     -1         0  unknown     yes  \n",
       "3    5   may       579         1     -1         0  unknown     yes  \n",
       "4    5   may       673         2     -1         0  unknown     yes  "
      ]
     },
     "execution_count": 11,
     "metadata": {},
     "output_type": "execute_result"
    }
   ],
   "source": [
    "bank.head()"
   ]
  },
  {
   "cell_type": "markdown",
   "id": "f47172d0",
   "metadata": {},
   "source": [
    "### Create a table in PostgreSQL\n",
    "\n",
    "A specific process had to be followed to create a database without it existing of PostgreSQL"
   ]
  },
  {
   "cell_type": "code",
   "execution_count": null,
   "id": "c6693252",
   "metadata": {},
   "outputs": [],
   "source": [
    "def engine_sql():\n",
    "    user = 'postgres'\n",
    "    password = 'password'\n",
    "    host = '127.0.0.1'\n",
    "    port = 5432\n",
    "    database = 'bank'\n",
    "    return create_engine(url=f\"postgresql://{user}:{password}@{host}:{port}/{database}\")"
   ]
  },
  {
   "cell_type": "code",
   "execution_count": 4,
   "id": "2c7a407d",
   "metadata": {},
   "outputs": [
    {
     "ename": "NameError",
     "evalue": "name 'engine_sql' is not defined",
     "output_type": "error",
     "traceback": [
      "\u001b[1;31m---------------------------------------------------------------------------\u001b[0m",
      "\u001b[1;31mNameError\u001b[0m                                 Traceback (most recent call last)",
      "Input \u001b[1;32mIn [4]\u001b[0m, in \u001b[0;36m<cell line: 1>\u001b[1;34m()\u001b[0m\n\u001b[1;32m----> 1\u001b[0m bank\u001b[38;5;241m.\u001b[39mto_sql(\u001b[38;5;124m'\u001b[39m\u001b[38;5;124mbank\u001b[39m\u001b[38;5;124m'\u001b[39m, \u001b[43mengine_sql\u001b[49m(), if_exists\u001b[38;5;241m=\u001b[39m\u001b[38;5;124m'\u001b[39m\u001b[38;5;124mreplace\u001b[39m\u001b[38;5;124m'\u001b[39m, index \u001b[38;5;241m=\u001b[39m \u001b[38;5;28;01mFalse\u001b[39;00m)\n",
      "\u001b[1;31mNameError\u001b[0m: name 'engine_sql' is not defined"
     ]
    }
   ],
   "source": [
    "bank.to_sql('bank', engine_sql(), if_exists='replace', index = False)"
   ]
  },
  {
   "cell_type": "code",
   "execution_count": 5,
   "id": "08436796",
   "metadata": {},
   "outputs": [
    {
     "data": {
      "text/plain": [
       "(11162, 17)"
      ]
     },
     "execution_count": 5,
     "metadata": {},
     "output_type": "execute_result"
    }
   ],
   "source": [
    "bank.shape"
   ]
  },
  {
   "cell_type": "code",
   "execution_count": 6,
   "id": "db4e9dab",
   "metadata": {},
   "outputs": [],
   "source": [
    "cursor.execute('SELECT * FROM bank')"
   ]
  },
  {
   "cell_type": "code",
   "execution_count": 8,
   "id": "cf98fc9b",
   "metadata": {},
   "outputs": [
    {
     "data": {
      "text/plain": [
       "(59,\n",
       " 'admin.',\n",
       " 'married',\n",
       " 'secondary',\n",
       " 'no',\n",
       " 2343,\n",
       " 'yes',\n",
       " 'no',\n",
       " 'unknown',\n",
       " 5,\n",
       " 'may',\n",
       " 1042,\n",
       " 1,\n",
       " -1,\n",
       " 0,\n",
       " 'unknown',\n",
       " 'yes')"
      ]
     },
     "execution_count": 8,
     "metadata": {},
     "output_type": "execute_result"
    }
   ],
   "source": [
    "cursor.execute('SELECT * FROM bank')\n",
    "cursor.fetchone()"
   ]
  },
  {
   "cell_type": "markdown",
   "id": "e74d40c1",
   "metadata": {},
   "source": [
    "## Questions\n",
    "\n",
    "* Which professions are the most popular among customers over 45 years old?\n",
    "* For how many people with loans did the marketing campaign succeed?\n",
    "* Does the success depend on the balance, deposit, or loan?"
   ]
  },
  {
   "cell_type": "markdown",
   "id": "9ea336cc",
   "metadata": {},
   "source": [
    "## First question\n",
    "\n",
    "* Which professions are the most popular among customers over 45 years old?"
   ]
  },
  {
   "cell_type": "code",
   "execution_count": 8,
   "id": "fe649b99",
   "metadata": {},
   "outputs": [],
   "source": [
    "# Function to send cursor to beggining of the query\n",
    "def cursor_to_beggining(cursor):\n",
    "    cursor.scroll(0,mode='absolute')\n",
    "    return cursor"
   ]
  },
  {
   "cell_type": "code",
   "execution_count": 9,
   "id": "30538039",
   "metadata": {},
   "outputs": [
    {
     "data": {
      "text/plain": [
       "[('retired', 764),\n",
       " ('management', 757),\n",
       " ('blue-collar', 537),\n",
       " ('technician', 456),\n",
       " ('admin.', 361),\n",
       " ('services', 206),\n",
       " ('housemaid', 157),\n",
       " ('entrepreneur', 125),\n",
       " ('unemployed', 118),\n",
       " ('self-employed', 113),\n",
       " ('unknown', 37),\n",
       " ('student', 2)]"
      ]
     },
     "execution_count": 9,
     "metadata": {},
     "output_type": "execute_result"
    }
   ],
   "source": [
    "query_first_question = '''SELECT job, COUNT(*) FROM bank\n",
    "                            WHERE age > 45\n",
    "                            GROUP BY job\n",
    "                            ORDER BY COUNT(*) DESC;\n",
    "                            '''\n",
    "cursor.execute(query_first_question)\n",
    "data_first_question = cursor.fetchall()\n",
    "data_first_question"
   ]
  },
  {
   "cell_type": "code",
   "execution_count": 10,
   "id": "a7e3766a",
   "metadata": {},
   "outputs": [],
   "source": [
    "query_first_question_2 = '''SELECT job, COUNT(*) FROM bank\n",
    "                            GROUP BY job\n",
    "                            ORDER BY COUNT(*) DESC'''\n",
    "cursor.execute(query_first_question_2)\n",
    "data_first_question_2 = cursor.fetchall()"
   ]
  },
  {
   "cell_type": "code",
   "execution_count": 11,
   "id": "7a91254a",
   "metadata": {},
   "outputs": [
    {
     "data": {
      "text/plain": [
       "0.29501169134840216"
      ]
     },
     "execution_count": 11,
     "metadata": {},
     "output_type": "execute_result"
    }
   ],
   "source": [
    "data_first_question[1][1]/data_first_question_2[0][1]"
   ]
  },
  {
   "cell_type": "markdown",
   "id": "4d8dc13e",
   "metadata": {},
   "source": [
    "### Answer 1\n",
    "\n",
    "The most popular profession, aside from retired, is management. One third of the overall workes who are at a management position belong to a population of age greater than 45"
   ]
  },
  {
   "cell_type": "markdown",
   "id": "2fde95d6",
   "metadata": {},
   "source": [
    "## Second question\n",
    "\n",
    "* For how many people with loans did the marketing campaign succeed?"
   ]
  },
  {
   "cell_type": "code",
   "execution_count": 12,
   "id": "3a13fd8b",
   "metadata": {},
   "outputs": [
    {
     "data": {
      "text/plain": [
       "51"
      ]
     },
     "execution_count": 12,
     "metadata": {},
     "output_type": "execute_result"
    }
   ],
   "source": [
    "query_second_question = '''SELECT COUNT(*) FROM bank\n",
    "                            WHERE loan=\\'yes\\' AND poutcome= \\'success\\''''\n",
    "\n",
    "cursor.execute(query_second_question)\n",
    "cursor.fetchall()[0][0]"
   ]
  },
  {
   "cell_type": "markdown",
   "id": "24bf1f28",
   "metadata": {},
   "source": [
    "## Third question question\n",
    "\n",
    "* Does the success depend on the balance, deposit, or loan?"
   ]
  },
  {
   "cell_type": "code",
   "execution_count": 13,
   "id": "7031b38e",
   "metadata": {},
   "outputs": [
    {
     "data": {
      "text/plain": [
       "[('no', 93), ('yes', 978)]"
      ]
     },
     "execution_count": 13,
     "metadata": {},
     "output_type": "execute_result"
    }
   ],
   "source": [
    "# We are going to see which where the number of success increases first!\n",
    "query_third_question_1 = '''\n",
    "SELECT deposit, COUNT(*) FROM bank\n",
    "WHERE poutcome = \\'success\\'\n",
    "GROUP BY deposit\n",
    "'''\n",
    "\n",
    "cursor.execute(query_third_question_1)\n",
    "cursor.fetchall()"
   ]
  },
  {
   "cell_type": "markdown",
   "id": "da223f56",
   "metadata": {},
   "source": [
    "## Deposit\n",
    "* 8.6% of people in which the campaign was a success did not receive loans\n",
    "* The campaign was a succes in almost of people that received loans (91.3% approximately)"
   ]
  },
  {
   "cell_type": "code",
   "execution_count": 14,
   "id": "1242db9f",
   "metadata": {},
   "outputs": [
    {
     "data": {
      "text/plain": [
       "[('no', 1020), ('yes', 51)]"
      ]
     },
     "execution_count": 14,
     "metadata": {},
     "output_type": "execute_result"
    }
   ],
   "source": [
    "query_third_question_2 = '''\n",
    "SELECT loan, COUNT(*) FROM bank\n",
    "WHERE poutcome = \\'success\\'\n",
    "GROUP BY loan\n",
    "'''\n",
    "\n",
    "cursor.execute(query_third_question_2)\n",
    "cursor.fetchall()"
   ]
  },
  {
   "cell_type": "markdown",
   "id": "3dead92d",
   "metadata": {},
   "source": [
    "## Loan\n",
    "* 95.23% people in which the campaign was a success did not receive loans\n",
    "* The campaign was a succes for 4.7% of people that received loans"
   ]
  },
  {
   "cell_type": "code",
   "execution_count": 15,
   "id": "5266481d",
   "metadata": {},
   "outputs": [
    {
     "data": {
      "text/plain": [
       "Decimal('1528.5385235620856477')"
      ]
     },
     "execution_count": 15,
     "metadata": {},
     "output_type": "execute_result"
    }
   ],
   "source": [
    "# Obtain mean to have threshold on what can affect the success of the campign\n",
    "query_third_question_3='''\n",
    "SELECT SUM(balance)/COUNT(*) FROM bank\n",
    "'''\n",
    "cursor.execute(query_third_question_3)\n",
    "cursor.fetchall()[0][0]"
   ]
  },
  {
   "cell_type": "code",
   "execution_count": 16,
   "id": "01917dc6",
   "metadata": {},
   "outputs": [
    {
     "data": {
      "text/plain": [
       "[(378,)]"
      ]
     },
     "execution_count": 16,
     "metadata": {},
     "output_type": "execute_result"
    }
   ],
   "source": [
    "# We now know what the mean is\n",
    "mean_balance = 1528.5385\n",
    "query_third_question_3='''\n",
    "SELECT COUNT(*) FROM bank\n",
    "WHERE balance > 1528.5385 AND poutcome = \\'success\\'\n",
    "'''\n",
    "\n",
    "cursor.execute(query_third_question_3)\n",
    "cursor.fetchall()"
   ]
  },
  {
   "cell_type": "markdown",
   "id": "5ecf236e",
   "metadata": {},
   "source": [
    "## Problem\n",
    "\n",
    "I cannot come up with a good solution to see if balance does affect whether the campaign is successful or not with SQL. I'll be using python to plot how the relationship is between these two variables "
   ]
  },
  {
   "cell_type": "code",
   "execution_count": 17,
   "id": "1514f57a",
   "metadata": {},
   "outputs": [],
   "source": [
    "query_data_balance = '''\n",
    "SELECT balance FROM bank\n",
    "WHERE poutcome= \\'success\\'\n",
    "'''\n",
    "\n",
    "cursor.execute(query_data_balance)\n",
    "data_balance = cursor.fetchall()"
   ]
  },
  {
   "cell_type": "code",
   "execution_count": 18,
   "id": "87d93890",
   "metadata": {},
   "outputs": [
    {
     "name": "stdout",
     "output_type": "stream",
     "text": [
      "<class 'list'>\n"
     ]
    }
   ],
   "source": [
    "# Now we have the information in the variable 'data_valance', let's explore what it tells us\n",
    "print(type(data_balance))\n",
    "\n",
    "# Since it is a list, we must convert it to a dataframe for better understanding\n"
   ]
  },
  {
   "cell_type": "code",
   "execution_count": 19,
   "id": "81a58ecf",
   "metadata": {},
   "outputs": [],
   "source": [
    "data_balance_df = pd.DataFrame(data_balance, columns=['Balance'])"
   ]
  },
  {
   "cell_type": "code",
   "execution_count": 20,
   "id": "ec05883c",
   "metadata": {},
   "outputs": [
    {
     "data": {
      "text/html": [
       "<div>\n",
       "<style scoped>\n",
       "    .dataframe tbody tr th:only-of-type {\n",
       "        vertical-align: middle;\n",
       "    }\n",
       "\n",
       "    .dataframe tbody tr th {\n",
       "        vertical-align: top;\n",
       "    }\n",
       "\n",
       "    .dataframe thead th {\n",
       "        text-align: right;\n",
       "    }\n",
       "</style>\n",
       "<table border=\"1\" class=\"dataframe\">\n",
       "  <thead>\n",
       "    <tr style=\"text-align: right;\">\n",
       "      <th></th>\n",
       "      <th>Balance</th>\n",
       "    </tr>\n",
       "  </thead>\n",
       "  <tbody>\n",
       "    <tr>\n",
       "      <th>0</th>\n",
       "      <td>589</td>\n",
       "    </tr>\n",
       "    <tr>\n",
       "      <th>1</th>\n",
       "      <td>2269</td>\n",
       "    </tr>\n",
       "    <tr>\n",
       "      <th>2</th>\n",
       "      <td>3354</td>\n",
       "    </tr>\n",
       "    <tr>\n",
       "      <th>3</th>\n",
       "      <td>3352</td>\n",
       "    </tr>\n",
       "    <tr>\n",
       "      <th>4</th>\n",
       "      <td>1331</td>\n",
       "    </tr>\n",
       "    <tr>\n",
       "      <th>...</th>\n",
       "      <td>...</td>\n",
       "    </tr>\n",
       "    <tr>\n",
       "      <th>1066</th>\n",
       "      <td>0</td>\n",
       "    </tr>\n",
       "    <tr>\n",
       "      <th>1067</th>\n",
       "      <td>348</td>\n",
       "    </tr>\n",
       "    <tr>\n",
       "      <th>1068</th>\n",
       "      <td>145</td>\n",
       "    </tr>\n",
       "    <tr>\n",
       "      <th>1069</th>\n",
       "      <td>658</td>\n",
       "    </tr>\n",
       "    <tr>\n",
       "      <th>1070</th>\n",
       "      <td>390</td>\n",
       "    </tr>\n",
       "  </tbody>\n",
       "</table>\n",
       "<p>1071 rows × 1 columns</p>\n",
       "</div>"
      ],
      "text/plain": [
       "      Balance\n",
       "0         589\n",
       "1        2269\n",
       "2        3354\n",
       "3        3352\n",
       "4        1331\n",
       "...       ...\n",
       "1066        0\n",
       "1067      348\n",
       "1068      145\n",
       "1069      658\n",
       "1070      390\n",
       "\n",
       "[1071 rows x 1 columns]"
      ]
     },
     "execution_count": 20,
     "metadata": {},
     "output_type": "execute_result"
    }
   ],
   "source": [
    "data_balance_df"
   ]
  },
  {
   "cell_type": "code",
   "execution_count": 26,
   "id": "cc9c4e0c",
   "metadata": {},
   "outputs": [
    {
     "data": {
      "text/plain": [
       "<matplotlib.collections.PathCollection at 0x2793dfc9a30>"
      ]
     },
     "execution_count": 26,
     "metadata": {},
     "output_type": "execute_result"
    },
    {
     "data": {
      "image/png": "[encoded data removed]",
      "text/plain": [
       "<Figure size 1080x576 with 1 Axes>"
      ]
     },
     "metadata": {
      "needs_background": "light"
     },
     "output_type": "display_data"
    }
   ],
   "source": [
    "# We must import the library for plotting\n",
    "import matplotlib.pyplot as plt\n",
    "\n",
    "plt.figure(figsize=(15,8))\n",
    "plt.scatter(x=data_balance_df.index,y=data_balance_df.Balance)"
   ]
  },
  {
   "cell_type": "markdown",
   "id": "a15050dc",
   "metadata": {},
   "source": [
    "There are various outliers that must be eliminated to obtain a better picture of the marketing campaign"
   ]
  },
  {
   "cell_type": "code",
   "execution_count": 27,
   "id": "c97bcf10",
   "metadata": {},
   "outputs": [
    {
     "data": {
      "text/html": [
       "<div>\n",
       "<style scoped>\n",
       "    .dataframe tbody tr th:only-of-type {\n",
       "        vertical-align: middle;\n",
       "    }\n",
       "\n",
       "    .dataframe tbody tr th {\n",
       "        vertical-align: top;\n",
       "    }\n",
       "\n",
       "    .dataframe thead th {\n",
       "        text-align: right;\n",
       "    }\n",
       "</style>\n",
       "<table border=\"1\" class=\"dataframe\">\n",
       "  <thead>\n",
       "    <tr style=\"text-align: right;\">\n",
       "      <th></th>\n",
       "      <th>Balance</th>\n",
       "    </tr>\n",
       "  </thead>\n",
       "  <tbody>\n",
       "    <tr>\n",
       "      <th>count</th>\n",
       "      <td>1071.000000</td>\n",
       "    </tr>\n",
       "    <tr>\n",
       "      <th>mean</th>\n",
       "      <td>1980.014006</td>\n",
       "    </tr>\n",
       "    <tr>\n",
       "      <th>std</th>\n",
       "      <td>4099.156602</td>\n",
       "    </tr>\n",
       "    <tr>\n",
       "      <th>min</th>\n",
       "      <td>-382.000000</td>\n",
       "    </tr>\n",
       "    <tr>\n",
       "      <th>25%</th>\n",
       "      <td>274.000000</td>\n",
       "    </tr>\n",
       "    <tr>\n",
       "      <th>50%</th>\n",
       "      <td>867.000000</td>\n",
       "    </tr>\n",
       "    <tr>\n",
       "      <th>75%</th>\n",
       "      <td>2239.500000</td>\n",
       "    </tr>\n",
       "    <tr>\n",
       "      <th>max</th>\n",
       "      <td>81204.000000</td>\n",
       "    </tr>\n",
       "  </tbody>\n",
       "</table>\n",
       "</div>"
      ],
      "text/plain": [
       "            Balance\n",
       "count   1071.000000\n",
       "mean    1980.014006\n",
       "std     4099.156602\n",
       "min     -382.000000\n",
       "25%      274.000000\n",
       "50%      867.000000\n",
       "75%     2239.500000\n",
       "max    81204.000000"
      ]
     },
     "execution_count": 27,
     "metadata": {},
     "output_type": "execute_result"
    }
   ],
   "source": [
    "data_balance_df.describe()"
   ]
  },
  {
   "cell_type": "markdown",
   "id": "9cb41078",
   "metadata": {},
   "source": [
    "From this picture we can see that the std is very high when compared with the 25%, 50% and 75% percentile. Thus the outliers are very high, we can try with 3000 so that a threshold is set and see how much data lies within these boundaries"
   ]
  },
  {
   "cell_type": "code",
   "execution_count": 28,
   "id": "b4c1dde2",
   "metadata": {},
   "outputs": [
    {
     "data": {
      "text/plain": [
       "0.8216619981325863"
      ]
     },
     "execution_count": 28,
     "metadata": {},
     "output_type": "execute_result"
    }
   ],
   "source": [
    "data_balance_df[data_balance_df.Balance <=3000].shape[0]/data_balance_df.shape[0]"
   ]
  },
  {
   "cell_type": "markdown",
   "id": "f51f7bcd",
   "metadata": {},
   "source": [
    "82% of the information is captured with a threshold of 3000, we will set this higher so that at least 90% is captured"
   ]
  },
  {
   "cell_type": "code",
   "execution_count": 29,
   "id": "9b002277",
   "metadata": {},
   "outputs": [
    {
     "data": {
      "text/plain": [
       "0.9094304388422035"
      ]
     },
     "execution_count": 29,
     "metadata": {},
     "output_type": "execute_result"
    }
   ],
   "source": [
    "data_balance_df[data_balance_df.Balance <=5000].shape[0]/data_balance_df.shape[0]"
   ]
  },
  {
   "cell_type": "markdown",
   "id": "3795bb5e",
   "metadata": {},
   "source": [
    "With a threshold of 5000 90% of information is captured but is almost double of the 75% percentile, so maybe we'll set the threshold to 85% of data captured"
   ]
  },
  {
   "cell_type": "code",
   "execution_count": 30,
   "id": "1f523398",
   "metadata": {},
   "outputs": [
    {
     "data": {
      "text/plain": [
       "0.8524743230625583"
      ]
     },
     "execution_count": 30,
     "metadata": {},
     "output_type": "execute_result"
    }
   ],
   "source": [
    "data_balance_df[data_balance_df.Balance <=3500].shape[0]/data_balance_df.shape[0]"
   ]
  },
  {
   "cell_type": "markdown",
   "id": "21d910ed",
   "metadata": {},
   "source": [
    "With this, 85% of information is captured, let's plot it again"
   ]
  },
  {
   "cell_type": "code",
   "execution_count": 31,
   "id": "3037cc93",
   "metadata": {},
   "outputs": [
    {
     "data": {
      "text/plain": [
       "<matplotlib.collections.PathCollection at 0x2793ed25d90>"
      ]
     },
     "execution_count": 31,
     "metadata": {},
     "output_type": "execute_result"
    },
    {
     "data": {
      "image/png": "[encoded data removed]",
      "text/plain": [
       "<Figure size 1080x576 with 1 Axes>"
      ]
     },
     "metadata": {
      "needs_background": "light"
     },
     "output_type": "display_data"
    }
   ],
   "source": [
    "data_balance_df_threshold = data_balance_df[data_balance_df.Balance <=3500]\n",
    "\n",
    "plt.figure(figsize=(15,8))\n",
    "plt.scatter(x=data_balance_df_threshold.index,y=data_balance_df_threshold.Balance)"
   ]
  },
  {
   "cell_type": "markdown",
   "id": "d48bac93",
   "metadata": {},
   "source": [
    "We will be organizing the information to have a better picture"
   ]
  },
  {
   "cell_type": "code",
   "execution_count": 32,
   "id": "fc13f615",
   "metadata": {},
   "outputs": [
    {
     "data": {
      "text/plain": [
       "(913, 1)"
      ]
     },
     "execution_count": 32,
     "metadata": {},
     "output_type": "execute_result"
    }
   ],
   "source": [
    "data_balance_df_threshold = data_balance_df_threshold.sort_values(by='Balance')\n",
    "data_balance_df_threshold.shape"
   ]
  },
  {
   "cell_type": "code",
   "execution_count": 21,
   "id": "d65040a7",
   "metadata": {},
   "outputs": [
    {
     "data": {
      "text/plain": [
       "<matplotlib.collections.PathCollection at 0x23dc84606d0>"
      ]
     },
     "execution_count": 21,
     "metadata": {},
     "output_type": "execute_result"
    },
    {
     "data": {
      "image/png": "[encoded data removed]",
      "text/plain": [
       "<Figure size 1080x576 with 1 Axes>"
      ]
     },
     "metadata": {
      "needs_background": "light"
     },
     "output_type": "display_data"
    }
   ],
   "source": [
    "plt.figure(figsize=(15,8))\n",
    "plt.scatter(x=range(1,914),y=data_balance_df_threshold.Balance)"
   ]
  },
  {
   "cell_type": "markdown",
   "id": "26aa76c9",
   "metadata": {},
   "source": [
    "Since there is no aparent tendency on the balance of the people for whose the marketing campaign was successful, let's see the same graph but comparing also for the people for which is was not successful"
   ]
  },
  {
   "cell_type": "code",
   "execution_count": 34,
   "id": "a9891b58",
   "metadata": {},
   "outputs": [],
   "source": [
    "query_third_question_3_1 ='''\n",
    "SELECT balance FROM bank\n",
    "WHERE poutcome = \\'failure\\'\n",
    "'''\n",
    "\n",
    "cursor.execute(query_third_question_3_1)\n",
    "data_balance_failure = cursor.fetchall()\n",
    "data_balance_failure=pd.DataFrame(data_balance_failure, columns=['balance_failure'])"
   ]
  },
  {
   "cell_type": "code",
   "execution_count": 35,
   "id": "87996a86",
   "metadata": {},
   "outputs": [
    {
     "data": {
      "text/html": [
       "<div>\n",
       "<style scoped>\n",
       "    .dataframe tbody tr th:only-of-type {\n",
       "        vertical-align: middle;\n",
       "    }\n",
       "\n",
       "    .dataframe tbody tr th {\n",
       "        vertical-align: top;\n",
       "    }\n",
       "\n",
       "    .dataframe thead th {\n",
       "        text-align: right;\n",
       "    }\n",
       "</style>\n",
       "<table border=\"1\" class=\"dataframe\">\n",
       "  <thead>\n",
       "    <tr style=\"text-align: right;\">\n",
       "      <th></th>\n",
       "      <th>balance_failure</th>\n",
       "    </tr>\n",
       "  </thead>\n",
       "  <tbody>\n",
       "    <tr>\n",
       "      <th>count</th>\n",
       "      <td>1228.000000</td>\n",
       "    </tr>\n",
       "    <tr>\n",
       "      <th>mean</th>\n",
       "      <td>1544.090391</td>\n",
       "    </tr>\n",
       "    <tr>\n",
       "      <th>std</th>\n",
       "      <td>2521.696591</td>\n",
       "    </tr>\n",
       "    <tr>\n",
       "      <th>min</th>\n",
       "      <td>-1137.000000</td>\n",
       "    </tr>\n",
       "    <tr>\n",
       "      <th>25%</th>\n",
       "      <td>182.500000</td>\n",
       "    </tr>\n",
       "    <tr>\n",
       "      <th>50%</th>\n",
       "      <td>646.500000</td>\n",
       "    </tr>\n",
       "    <tr>\n",
       "      <th>75%</th>\n",
       "      <td>1963.250000</td>\n",
       "    </tr>\n",
       "    <tr>\n",
       "      <th>max</th>\n",
       "      <td>27696.000000</td>\n",
       "    </tr>\n",
       "  </tbody>\n",
       "</table>\n",
       "</div>"
      ],
      "text/plain": [
       "       balance_failure\n",
       "count      1228.000000\n",
       "mean       1544.090391\n",
       "std        2521.696591\n",
       "min       -1137.000000\n",
       "25%         182.500000\n",
       "50%         646.500000\n",
       "75%        1963.250000\n",
       "max       27696.000000"
      ]
     },
     "execution_count": 35,
     "metadata": {},
     "output_type": "execute_result"
    }
   ],
   "source": [
    "data_balance_failure.describe()"
   ]
  },
  {
   "cell_type": "markdown",
   "id": "8e91929b",
   "metadata": {},
   "source": [
    "There are some differences regarding the min values in between the people for which it succeded and the people for which it did not, but let's graph both!"
   ]
  },
  {
   "cell_type": "code",
   "execution_count": 36,
   "id": "f80d1fb7",
   "metadata": {},
   "outputs": [
    {
     "data": {
      "text/plain": [
       "<matplotlib.collections.PathCollection at 0x2793e8dcf40>"
      ]
     },
     "execution_count": 36,
     "metadata": {},
     "output_type": "execute_result"
    },
    {
     "data": {
      "image/png": "[encoded data removed]",
      "text/plain": [
       "<Figure size 432x288 with 1 Axes>"
      ]
     },
     "metadata": {
      "needs_background": "light"
     },
     "output_type": "display_data"
    }
   ],
   "source": [
    "# Let's graph and detect outliers  the outliers\n",
    "plt.scatter(data_balance_failure.index, data_balance_failure.balance_failure)"
   ]
  },
  {
   "cell_type": "code",
   "execution_count": 37,
   "id": "facfcf48",
   "metadata": {},
   "outputs": [
    {
     "data": {
      "text/plain": [
       "0.8558631921824105"
      ]
     },
     "execution_count": 37,
     "metadata": {},
     "output_type": "execute_result"
    }
   ],
   "source": [
    "# Let's retain at least 85% of data to eliminate outliers\n",
    "total_number_failures = data_balance_failure.shape[0]\n",
    "data_balance_failure[data_balance_failure.balance_failure<=3000].shape[0]/total_number_failures"
   ]
  },
  {
   "cell_type": "code",
   "execution_count": 38,
   "id": "d1258857",
   "metadata": {},
   "outputs": [
    {
     "data": {
      "text/plain": [
       "(1051, 1)"
      ]
     },
     "execution_count": 38,
     "metadata": {},
     "output_type": "execute_result"
    }
   ],
   "source": [
    "data_balance_failure_threshold = data_balance_failure[data_balance_failure.balance_failure<=3000]\n",
    "data_balance_failure_threshold.shape"
   ]
  },
  {
   "cell_type": "code",
   "execution_count": 39,
   "id": "6a62a849",
   "metadata": {},
   "outputs": [
    {
     "data": {
      "text/html": [
       "<div>\n",
       "<style scoped>\n",
       "    .dataframe tbody tr th:only-of-type {\n",
       "        vertical-align: middle;\n",
       "    }\n",
       "\n",
       "    .dataframe tbody tr th {\n",
       "        vertical-align: top;\n",
       "    }\n",
       "\n",
       "    .dataframe thead th {\n",
       "        text-align: right;\n",
       "    }\n",
       "</style>\n",
       "<table border=\"1\" class=\"dataframe\">\n",
       "  <thead>\n",
       "    <tr style=\"text-align: right;\">\n",
       "      <th></th>\n",
       "      <th>balance_failure</th>\n",
       "    </tr>\n",
       "  </thead>\n",
       "  <tbody>\n",
       "    <tr>\n",
       "      <th>1089</th>\n",
       "      <td>-1137</td>\n",
       "    </tr>\n",
       "    <tr>\n",
       "      <th>1039</th>\n",
       "      <td>-938</td>\n",
       "    </tr>\n",
       "    <tr>\n",
       "      <th>1190</th>\n",
       "      <td>-663</td>\n",
       "    </tr>\n",
       "    <tr>\n",
       "      <th>729</th>\n",
       "      <td>-581</td>\n",
       "    </tr>\n",
       "    <tr>\n",
       "      <th>105</th>\n",
       "      <td>-556</td>\n",
       "    </tr>\n",
       "    <tr>\n",
       "      <th>...</th>\n",
       "      <td>...</td>\n",
       "    </tr>\n",
       "    <tr>\n",
       "      <th>444</th>\n",
       "      <td>2979</td>\n",
       "    </tr>\n",
       "    <tr>\n",
       "      <th>303</th>\n",
       "      <td>2986</td>\n",
       "    </tr>\n",
       "    <tr>\n",
       "      <th>596</th>\n",
       "      <td>2987</td>\n",
       "    </tr>\n",
       "    <tr>\n",
       "      <th>337</th>\n",
       "      <td>2987</td>\n",
       "    </tr>\n",
       "    <tr>\n",
       "      <th>837</th>\n",
       "      <td>2994</td>\n",
       "    </tr>\n",
       "  </tbody>\n",
       "</table>\n",
       "<p>1051 rows × 1 columns</p>\n",
       "</div>"
      ],
      "text/plain": [
       "      balance_failure\n",
       "1089            -1137\n",
       "1039             -938\n",
       "1190             -663\n",
       "729              -581\n",
       "105              -556\n",
       "...               ...\n",
       "444              2979\n",
       "303              2986\n",
       "596              2987\n",
       "337              2987\n",
       "837              2994\n",
       "\n",
       "[1051 rows x 1 columns]"
      ]
     },
     "execution_count": 39,
     "metadata": {},
     "output_type": "execute_result"
    }
   ],
   "source": [
    "data_balance_failure_threshold=data_balance_failure_threshold.sort_values(by='balance_failure')\n",
    "data_balance_failure_threshold"
   ]
  },
  {
   "cell_type": "code",
   "execution_count": 40,
   "id": "04c807e0",
   "metadata": {},
   "outputs": [],
   "source": [
    "# Let's see the number of cases for success and failure\n",
    "size_failure = data_balance_failure_threshold.shape[0]\n",
    "size_success = data_balance_df_threshold.shape[0]"
   ]
  },
  {
   "cell_type": "code",
   "execution_count": 41,
   "id": "8a7104dd",
   "metadata": {
    "scrolled": true
   },
   "outputs": [
    {
     "data": {
      "image/png": "[encoded data removed]",
      "text/plain": [
       "<Figure size 1152x864 with 1 Axes>"
      ]
     },
     "metadata": {
      "needs_background": "light"
     },
     "output_type": "display_data"
    }
   ],
   "source": [
    "x_failure = range(size_failure)\n",
    "x_success = range(size_success)\n",
    "fig = plt.figure(figsize = (16,12))\n",
    "plt.scatter(x=x_failure,y=data_balance_failure_threshold.balance_failure,c='red',label='Failure')\n",
    "plt.scatter(x=x_success,y=data_balance_df_threshold.Balance,c='green',label='Success')\n",
    "plt.legend(loc='upper left')\n",
    "plt.show()"
   ]
  },
  {
   "cell_type": "markdown",
   "id": "1b30dbe1",
   "metadata": {},
   "source": [
    "There is an obvious trend for both cases, failure and success. So let's do one more plot to show ALL the values for both cases, without the threshold."
   ]
  },
  {
   "cell_type": "code",
   "execution_count": 42,
   "id": "a6672aa5",
   "metadata": {},
   "outputs": [
    {
     "data": {
      "image/png": "[encoded data removed]",
      "text/plain": [
       "<Figure size 1152x864 with 1 Axes>"
      ]
     },
     "metadata": {
      "needs_background": "light"
     },
     "output_type": "display_data"
    }
   ],
   "source": [
    "x_success_total = range(data_balance_df.shape[0])\n",
    "x_failure_total = range(data_balance_failure.shape[0])\n",
    "fig = plt.figure(figsize = (16,12))\n",
    "\n",
    "plt.scatter(x=x_failure_total,y=data_balance_failure.sort_values(by='balance_failure').balance_failure,c='red',label='Failure')\n",
    "plt.scatter(x=x_success_total,y=data_balance_df.sort_values(by='Balance').Balance,c='green',label='Success')\n",
    "\n",
    "plt.legend(loc='upper right')\n",
    "plt.show()"
   ]
  },
  {
   "cell_type": "markdown",
   "id": "971e3cf5",
   "metadata": {},
   "source": [
    "As a next step, a model to classify whether a campaign will be successful or not will be created based on these 3 parameters (for the sake of the project):\n",
    "* Balance\n",
    "* Deposit\n",
    "* Loan"
   ]
  },
  {
   "cell_type": "markdown",
   "id": "eb11d400",
   "metadata": {},
   "source": [
    "As a general process for the problem, we will:\n",
    "\n",
    "### Knowledge and statement of the solution\n",
    "1) See which classification techniques are available that can be implemented to this scenario\n",
    "\n",
    "\n",
    "### Data cleansinng and filtering\n",
    "1) Obtain a DataFrame in which these variables are isolated.\n",
    "\n",
    "2) Eliminate innecesarry rows\n",
    "\n",
    "\n",
    "### Pre-processing of information\n",
    "2) Obtain dummy variables to the necessary columns\n",
    "\n",
    "### Model\n",
    "1) Identify the libraries to use\n",
    "\n",
    "2) Statement of the parameters\n",
    "\n",
    "3) Coding of the model\n",
    "\n",
    "4) Evalauation of the results\n",
    "\n",
    "5) Iteration of the model\n",
    "\n",
    "6) Identification of the final model\n",
    "\n",
    "\n",
    "### Data visualization\n",
    "1) Visualization of the results of the model"
   ]
  },
  {
   "cell_type": "markdown",
   "id": "bb1991cb",
   "metadata": {},
   "source": [
    "# Statement of the solution\n",
    "There are various ML techniques that can be applied for classification purposes. Supervised leraning techniques will be applied since we DO know the outcome of the campaign and it will yield results more suitable for our case. Various algorithms were investigated amongs which three were selected. This was due to having worked with them in the past, so we are familiar with how they work and their technical details:\n",
    "\n",
    "1) Logistic Regression\n",
    "\n",
    "2) K-nearest neighbour\n",
    "\n",
    "3) Decision three\n",
    "\n",
    "They will be implemented to see which one suits better the task of predicting the outcome of a bank's marketing campaing."
   ]
  },
  {
   "cell_type": "markdown",
   "id": "5d3be821",
   "metadata": {},
   "source": [
    "# Data cleansinng and filtering"
   ]
  },
  {
   "cell_type": "code",
   "execution_count": 43,
   "id": "91667d2b",
   "metadata": {},
   "outputs": [],
   "source": [
    "# First of all, based on the data we have in the two variables afore used we will create our pandas DataFrame\n",
    "# The reason why this data i used is that the outliers are already our of the equation and we DO know that at least 85% of the\n",
    "# failure and success cases are there\n",
    "\n",
    "\n",
    "# First we will assign the label 'success' of 'failure' to the DF\n",
    "data_balance_failure_threshold['label'] = 'Failure'\n",
    "data_balance_df_threshold['label'] = 'Success'"
   ]
  },
  {
   "cell_type": "code",
   "execution_count": 44,
   "id": "b38b2e89",
   "metadata": {},
   "outputs": [
    {
     "data": {
      "text/html": [
       "<div>\n",
       "<style scoped>\n",
       "    .dataframe tbody tr th:only-of-type {\n",
       "        vertical-align: middle;\n",
       "    }\n",
       "\n",
       "    .dataframe tbody tr th {\n",
       "        vertical-align: top;\n",
       "    }\n",
       "\n",
       "    .dataframe thead th {\n",
       "        text-align: right;\n",
       "    }\n",
       "</style>\n",
       "<table border=\"1\" class=\"dataframe\">\n",
       "  <thead>\n",
       "    <tr style=\"text-align: right;\">\n",
       "      <th></th>\n",
       "      <th>Balance</th>\n",
       "      <th>label</th>\n",
       "    </tr>\n",
       "  </thead>\n",
       "  <tbody>\n",
       "    <tr>\n",
       "      <th>1059</th>\n",
       "      <td>-382</td>\n",
       "      <td>Success</td>\n",
       "    </tr>\n",
       "    <tr>\n",
       "      <th>157</th>\n",
       "      <td>-309</td>\n",
       "      <td>Success</td>\n",
       "    </tr>\n",
       "    <tr>\n",
       "      <th>148</th>\n",
       "      <td>-306</td>\n",
       "      <td>Success</td>\n",
       "    </tr>\n",
       "    <tr>\n",
       "      <th>51</th>\n",
       "      <td>-271</td>\n",
       "      <td>Success</td>\n",
       "    </tr>\n",
       "    <tr>\n",
       "      <th>67</th>\n",
       "      <td>-242</td>\n",
       "      <td>Success</td>\n",
       "    </tr>\n",
       "  </tbody>\n",
       "</table>\n",
       "</div>"
      ],
      "text/plain": [
       "      Balance    label\n",
       "1059     -382  Success\n",
       "157      -309  Success\n",
       "148      -306  Success\n",
       "51       -271  Success\n",
       "67       -242  Success"
      ]
     },
     "execution_count": 44,
     "metadata": {},
     "output_type": "execute_result"
    }
   ],
   "source": [
    "# Check the new DF\n",
    "data_balance_failure_threshold.head()\n",
    "data_balance_df_threshold.head()"
   ]
  },
  {
   "cell_type": "code",
   "execution_count": 45,
   "id": "b015c825",
   "metadata": {},
   "outputs": [],
   "source": [
    "# Let's combine both DF\n",
    "\n",
    "data_balance_failure_threshold.columns = ['Balance', 'Label']\n",
    "data_balance_df_threshold.columns = ['Balance', 'Label']"
   ]
  },
  {
   "cell_type": "code",
   "execution_count": 46,
   "id": "12a6a792",
   "metadata": {},
   "outputs": [
    {
     "data": {
      "text/html": [
       "<div>\n",
       "<style scoped>\n",
       "    .dataframe tbody tr th:only-of-type {\n",
       "        vertical-align: middle;\n",
       "    }\n",
       "\n",
       "    .dataframe tbody tr th {\n",
       "        vertical-align: top;\n",
       "    }\n",
       "\n",
       "    .dataframe thead th {\n",
       "        text-align: right;\n",
       "    }\n",
       "</style>\n",
       "<table border=\"1\" class=\"dataframe\">\n",
       "  <thead>\n",
       "    <tr style=\"text-align: right;\">\n",
       "      <th></th>\n",
       "      <th>Balance</th>\n",
       "      <th>Label</th>\n",
       "    </tr>\n",
       "  </thead>\n",
       "  <tbody>\n",
       "    <tr>\n",
       "      <th>1059</th>\n",
       "      <td>-382</td>\n",
       "      <td>Success</td>\n",
       "    </tr>\n",
       "    <tr>\n",
       "      <th>157</th>\n",
       "      <td>-309</td>\n",
       "      <td>Success</td>\n",
       "    </tr>\n",
       "    <tr>\n",
       "      <th>148</th>\n",
       "      <td>-306</td>\n",
       "      <td>Success</td>\n",
       "    </tr>\n",
       "    <tr>\n",
       "      <th>51</th>\n",
       "      <td>-271</td>\n",
       "      <td>Success</td>\n",
       "    </tr>\n",
       "    <tr>\n",
       "      <th>67</th>\n",
       "      <td>-242</td>\n",
       "      <td>Success</td>\n",
       "    </tr>\n",
       "    <tr>\n",
       "      <th>...</th>\n",
       "      <td>...</td>\n",
       "      <td>...</td>\n",
       "    </tr>\n",
       "    <tr>\n",
       "      <th>444</th>\n",
       "      <td>2979</td>\n",
       "      <td>Failure</td>\n",
       "    </tr>\n",
       "    <tr>\n",
       "      <th>303</th>\n",
       "      <td>2986</td>\n",
       "      <td>Failure</td>\n",
       "    </tr>\n",
       "    <tr>\n",
       "      <th>596</th>\n",
       "      <td>2987</td>\n",
       "      <td>Failure</td>\n",
       "    </tr>\n",
       "    <tr>\n",
       "      <th>337</th>\n",
       "      <td>2987</td>\n",
       "      <td>Failure</td>\n",
       "    </tr>\n",
       "    <tr>\n",
       "      <th>837</th>\n",
       "      <td>2994</td>\n",
       "      <td>Failure</td>\n",
       "    </tr>\n",
       "  </tbody>\n",
       "</table>\n",
       "<p>1964 rows × 2 columns</p>\n",
       "</div>"
      ],
      "text/plain": [
       "      Balance    Label\n",
       "1059     -382  Success\n",
       "157      -309  Success\n",
       "148      -306  Success\n",
       "51       -271  Success\n",
       "67       -242  Success\n",
       "...       ...      ...\n",
       "444      2979  Failure\n",
       "303      2986  Failure\n",
       "596      2987  Failure\n",
       "337      2987  Failure\n",
       "837      2994  Failure\n",
       "\n",
       "[1964 rows x 2 columns]"
      ]
     },
     "execution_count": 46,
     "metadata": {},
     "output_type": "execute_result"
    }
   ],
   "source": [
    "data_classification = pd.concat([data_balance_df_threshold,data_balance_failure_threshold])\n",
    "data_classification"
   ]
  },
  {
   "cell_type": "code",
   "execution_count": 47,
   "id": "4ad81b9c",
   "metadata": {},
   "outputs": [
    {
     "data": {
      "text/plain": [
       "1964"
      ]
     },
     "execution_count": 47,
     "metadata": {},
     "output_type": "execute_result"
    }
   ],
   "source": [
    "data_classification.shape[0]"
   ]
  },
  {
   "cell_type": "code",
   "execution_count": 48,
   "id": "dfcc7edf",
   "metadata": {},
   "outputs": [
    {
     "data": {
      "image/png": "[encoded data removed]",
      "text/plain": [
       "<Figure size 1080x576 with 1 Axes>"
      ]
     },
     "metadata": {
      "needs_background": "light"
     },
     "output_type": "display_data"
    }
   ],
   "source": [
    "plt.figure(figsize=(15,8))\n",
    "\n",
    "for label in data_classification.Label:\n",
    "    data_case = data_classification[data_classification.Label == label]\n",
    "    x = range(data_case.shape[0])\n",
    "    y = data_case.Balance\n",
    "    plt.scatter(x=x,y=y)\n",
    "\n",
    "plt.show()"
   ]
  },
  {
   "cell_type": "code",
   "execution_count": 49,
   "id": "db267f1e",
   "metadata": {},
   "outputs": [
    {
     "data": {
      "text/html": [
       "<div>\n",
       "<style scoped>\n",
       "    .dataframe tbody tr th:only-of-type {\n",
       "        vertical-align: middle;\n",
       "    }\n",
       "\n",
       "    .dataframe tbody tr th {\n",
       "        vertical-align: top;\n",
       "    }\n",
       "\n",
       "    .dataframe thead th {\n",
       "        text-align: right;\n",
       "    }\n",
       "</style>\n",
       "<table border=\"1\" class=\"dataframe\">\n",
       "  <thead>\n",
       "    <tr style=\"text-align: right;\">\n",
       "      <th></th>\n",
       "      <th>Balance</th>\n",
       "      <th>Label</th>\n",
       "    </tr>\n",
       "  </thead>\n",
       "  <tbody>\n",
       "    <tr>\n",
       "      <th>1059</th>\n",
       "      <td>-382</td>\n",
       "      <td>Success</td>\n",
       "    </tr>\n",
       "    <tr>\n",
       "      <th>157</th>\n",
       "      <td>-309</td>\n",
       "      <td>Success</td>\n",
       "    </tr>\n",
       "    <tr>\n",
       "      <th>148</th>\n",
       "      <td>-306</td>\n",
       "      <td>Success</td>\n",
       "    </tr>\n",
       "    <tr>\n",
       "      <th>51</th>\n",
       "      <td>-271</td>\n",
       "      <td>Success</td>\n",
       "    </tr>\n",
       "    <tr>\n",
       "      <th>67</th>\n",
       "      <td>-242</td>\n",
       "      <td>Success</td>\n",
       "    </tr>\n",
       "    <tr>\n",
       "      <th>...</th>\n",
       "      <td>...</td>\n",
       "      <td>...</td>\n",
       "    </tr>\n",
       "    <tr>\n",
       "      <th>444</th>\n",
       "      <td>2979</td>\n",
       "      <td>Failure</td>\n",
       "    </tr>\n",
       "    <tr>\n",
       "      <th>303</th>\n",
       "      <td>2986</td>\n",
       "      <td>Failure</td>\n",
       "    </tr>\n",
       "    <tr>\n",
       "      <th>596</th>\n",
       "      <td>2987</td>\n",
       "      <td>Failure</td>\n",
       "    </tr>\n",
       "    <tr>\n",
       "      <th>337</th>\n",
       "      <td>2987</td>\n",
       "      <td>Failure</td>\n",
       "    </tr>\n",
       "    <tr>\n",
       "      <th>837</th>\n",
       "      <td>2994</td>\n",
       "      <td>Failure</td>\n",
       "    </tr>\n",
       "  </tbody>\n",
       "</table>\n",
       "<p>1964 rows × 2 columns</p>\n",
       "</div>"
      ],
      "text/plain": [
       "      Balance    Label\n",
       "1059     -382  Success\n",
       "157      -309  Success\n",
       "148      -306  Success\n",
       "51       -271  Success\n",
       "67       -242  Success\n",
       "...       ...      ...\n",
       "444      2979  Failure\n",
       "303      2986  Failure\n",
       "596      2987  Failure\n",
       "337      2987  Failure\n",
       "837      2994  Failure\n",
       "\n",
       "[1964 rows x 2 columns]"
      ]
     },
     "execution_count": 49,
     "metadata": {},
     "output_type": "execute_result"
    }
   ],
   "source": [
    "data_classification"
   ]
  },
  {
   "cell_type": "markdown",
   "id": "ee27e17f",
   "metadata": {},
   "source": [
    "## Logistic Regression"
   ]
  },
  {
   "cell_type": "code",
   "execution_count": 50,
   "id": "6e566ff0",
   "metadata": {},
   "outputs": [],
   "source": [
    "# Implement model\n",
    "\n",
    "import numpy as np\n",
    "from sklearn.linear_model import LogisticRegression\n",
    "from sklearn.metrics import classification_report, confusion_matrix\n",
    "from sklearn.model_selection import train_test_split\n",
    "\n",
    "X_train, X_test, y_train, y_test = train_test_split(data_classification.Balance, data_classification.Label, test_size=0.2, random_state=0)\n",
    "\n",
    "X_train=X_train.to_numpy().reshape(-1,1)\n",
    "X_test=X_test.to_numpy().reshape(-1,1)\n"
   ]
  },
  {
   "cell_type": "code",
   "execution_count": 51,
   "id": "19cfa0e8",
   "metadata": {},
   "outputs": [
    {
     "name": "stdout",
     "output_type": "stream",
     "text": [
      "Logistic regression error rate using balance feature is 44.43%\n"
     ]
    }
   ],
   "source": [
    "lr = LogisticRegression(penalty='none',max_iter=100)\n",
    "\n",
    "lr.fit(X=X_train, y=y_train)\n",
    "\n",
    "lr_error_rate = (1-lr.score(X_train,y_train))*100\n",
    "\n",
    "print(\"Logistic regression error rate using balance feature is {}%\".format(np.round(lr_error_rate,2)))\n",
    "\n",
    "#predictedLogist = logisticRegression.predict(X_test)\n",
    "\n",
    "#predictedLogist."
   ]
  },
  {
   "cell_type": "code",
   "execution_count": 52,
   "id": "f0bd8154",
   "metadata": {},
   "outputs": [
    {
     "data": {
      "text/plain": [
       "{'C': 1.0,\n",
       " 'class_weight': None,\n",
       " 'dual': False,\n",
       " 'fit_intercept': True,\n",
       " 'intercept_scaling': 1,\n",
       " 'l1_ratio': None,\n",
       " 'max_iter': 100,\n",
       " 'multi_class': 'auto',\n",
       " 'n_jobs': None,\n",
       " 'penalty': 'none',\n",
       " 'random_state': None,\n",
       " 'solver': 'lbfgs',\n",
       " 'tol': 0.0001,\n",
       " 'verbose': 0,\n",
       " 'warm_start': False}"
      ]
     },
     "execution_count": 52,
     "metadata": {},
     "output_type": "execute_result"
    }
   ],
   "source": [
    "lr.get_params()"
   ]
  },
  {
   "cell_type": "code",
   "execution_count": 59,
   "id": "92ca4a35",
   "metadata": {},
   "outputs": [
    {
     "name": "stdout",
     "output_type": "stream",
     "text": [
      "Accuracy of logistic regression classifier on test set: 51.65\n"
     ]
    }
   ],
   "source": [
    "print('Accuracy of logistic regression classifier on test set: {:.2f}'.format(lr.score(X_test, y_test)*100))"
   ]
  },
  {
   "cell_type": "code",
   "execution_count": 60,
   "id": "a690f674",
   "metadata": {},
   "outputs": [
    {
     "data": {
      "text/plain": [
       "array([[161,  47],\n",
       "       [143,  42]], dtype=int64)"
      ]
     },
     "execution_count": 60,
     "metadata": {},
     "output_type": "execute_result"
    }
   ],
   "source": [
    "cm = confusion_matrix(y_test, predictedLogist)\n",
    "\n",
    "cm[0][1]\n",
    "cm"
   ]
  },
  {
   "cell_type": "code",
   "execution_count": 61,
   "id": "188b9522",
   "metadata": {},
   "outputs": [
    {
     "name": "stdout",
     "output_type": "stream",
     "text": [
      "              precision    recall  f1-score   support\n",
      "\n",
      "     Failure       0.53      0.77      0.63       208\n",
      "     Success       0.47      0.23      0.31       185\n",
      "\n",
      "    accuracy                           0.52       393\n",
      "   macro avg       0.50      0.50      0.47       393\n",
      "weighted avg       0.50      0.52      0.48       393\n",
      "\n"
     ]
    }
   ],
   "source": [
    "print(classification_report(y_test,predictedLogist))"
   ]
  },
  {
   "cell_type": "markdown",
   "id": "3890376f",
   "metadata": {},
   "source": [
    "# Let's integrate more variables so that a deeper analysis can be made"
   ]
  },
  {
   "cell_type": "code",
   "execution_count": 98,
   "id": "cdd578e5",
   "metadata": {},
   "outputs": [],
   "source": [
    "# depend on the balance, deposit, or loan\n",
    "\n",
    "sql_query_final = '''\n",
    "SELECT balance, deposit, loan, poutcome FROM bank\n",
    "WHERE poutcome = 'failure' OR poutcome = 'success'\n",
    "'''\n",
    "\n",
    "cursor.execute(sql_query_final)\n",
    "\n",
    "ml_data = cursor.fetchall()"
   ]
  },
  {
   "cell_type": "code",
   "execution_count": 100,
   "id": "5b110d5c",
   "metadata": {},
   "outputs": [],
   "source": [
    "ml_data = pd.DataFrame(ml_data, columns=['Balance', 'Deposit', 'Loan', 'Outcome'])"
   ]
  },
  {
   "cell_type": "code",
   "execution_count": 101,
   "id": "ff0eb16a",
   "metadata": {},
   "outputs": [
    {
     "data": {
      "text/html": [
       "<div>\n",
       "<style scoped>\n",
       "    .dataframe tbody tr th:only-of-type {\n",
       "        vertical-align: middle;\n",
       "    }\n",
       "\n",
       "    .dataframe tbody tr th {\n",
       "        vertical-align: top;\n",
       "    }\n",
       "\n",
       "    .dataframe thead th {\n",
       "        text-align: right;\n",
       "    }\n",
       "</style>\n",
       "<table border=\"1\" class=\"dataframe\">\n",
       "  <thead>\n",
       "    <tr style=\"text-align: right;\">\n",
       "      <th></th>\n",
       "      <th>Balance</th>\n",
       "      <th>Deposit</th>\n",
       "      <th>Loan</th>\n",
       "      <th>Outcome</th>\n",
       "    </tr>\n",
       "  </thead>\n",
       "  <tbody>\n",
       "    <tr>\n",
       "      <th>0</th>\n",
       "      <td>3444</td>\n",
       "      <td>1</td>\n",
       "      <td>0</td>\n",
       "      <td>0</td>\n",
       "    </tr>\n",
       "    <tr>\n",
       "      <th>1</th>\n",
       "      <td>589</td>\n",
       "      <td>1</td>\n",
       "      <td>0</td>\n",
       "      <td>1</td>\n",
       "    </tr>\n",
       "    <tr>\n",
       "      <th>2</th>\n",
       "      <td>899</td>\n",
       "      <td>1</td>\n",
       "      <td>0</td>\n",
       "      <td>0</td>\n",
       "    </tr>\n",
       "    <tr>\n",
       "      <th>3</th>\n",
       "      <td>2269</td>\n",
       "      <td>1</td>\n",
       "      <td>0</td>\n",
       "      <td>1</td>\n",
       "    </tr>\n",
       "    <tr>\n",
       "      <th>4</th>\n",
       "      <td>5115</td>\n",
       "      <td>1</td>\n",
       "      <td>0</td>\n",
       "      <td>0</td>\n",
       "    </tr>\n",
       "    <tr>\n",
       "      <th>...</th>\n",
       "      <td>...</td>\n",
       "      <td>...</td>\n",
       "      <td>...</td>\n",
       "      <td>...</td>\n",
       "    </tr>\n",
       "    <tr>\n",
       "      <th>2294</th>\n",
       "      <td>21</td>\n",
       "      <td>0</td>\n",
       "      <td>0</td>\n",
       "      <td>0</td>\n",
       "    </tr>\n",
       "    <tr>\n",
       "      <th>2295</th>\n",
       "      <td>1594</td>\n",
       "      <td>0</td>\n",
       "      <td>0</td>\n",
       "      <td>0</td>\n",
       "    </tr>\n",
       "    <tr>\n",
       "      <th>2296</th>\n",
       "      <td>-134</td>\n",
       "      <td>0</td>\n",
       "      <td>0</td>\n",
       "      <td>0</td>\n",
       "    </tr>\n",
       "    <tr>\n",
       "      <th>2297</th>\n",
       "      <td>80</td>\n",
       "      <td>0</td>\n",
       "      <td>1</td>\n",
       "      <td>0</td>\n",
       "    </tr>\n",
       "    <tr>\n",
       "      <th>2298</th>\n",
       "      <td>0</td>\n",
       "      <td>0</td>\n",
       "      <td>1</td>\n",
       "      <td>0</td>\n",
       "    </tr>\n",
       "  </tbody>\n",
       "</table>\n",
       "<p>2299 rows × 4 columns</p>\n",
       "</div>"
      ],
      "text/plain": [
       "      Balance  Deposit  Loan  Outcome\n",
       "0        3444        1     0        0\n",
       "1         589        1     0        1\n",
       "2         899        1     0        0\n",
       "3        2269        1     0        1\n",
       "4        5115        1     0        0\n",
       "...       ...      ...   ...      ...\n",
       "2294       21        0     0        0\n",
       "2295     1594        0     0        0\n",
       "2296     -134        0     0        0\n",
       "2297       80        0     1        0\n",
       "2298        0        0     1        0\n",
       "\n",
       "[2299 rows x 4 columns]"
      ]
     },
     "execution_count": 101,
     "metadata": {},
     "output_type": "execute_result"
    }
   ],
   "source": [
    "ml_data = pd.get_dummies(ml_data, drop_first=True)\n",
    "ml_data.columns = ['Balance', 'Deposit', 'Loan', 'Outcome']\n",
    "ml_data"
   ]
  },
  {
   "cell_type": "code",
   "execution_count": 110,
   "id": "dbb0e255",
   "metadata": {},
   "outputs": [],
   "source": [
    "# Apply all the filters to eliminate outliers\n",
    "\n",
    "\n",
    "ml_data = ml_data[((ml_data.Balance <= 3500) & (ml_data.Outcome == 1)) | ((ml_data.Balance<=3000) & (ml_data.Outcome == 0))]"
   ]
  },
  {
   "cell_type": "code",
   "execution_count": 114,
   "id": "2d4b513b",
   "metadata": {},
   "outputs": [],
   "source": [
    "# Which features will we be using?\n",
    "features = ['Balance', 'Deposit', 'Loan']"
   ]
  },
  {
   "cell_type": "code",
   "execution_count": 112,
   "id": "3847f684",
   "metadata": {},
   "outputs": [],
   "source": [
    "# Let's use KNN for the analysis\n",
    "\n",
    "from sklearn.neighbors import KNeighborsClassifier\n",
    "\n",
    "from sklearn.preprocessing import StandardScaler\n",
    "\n",
    "ss = StandardScaler()"
   ]
  },
  {
   "cell_type": "code",
   "execution_count": 119,
   "id": "61f20af4",
   "metadata": {},
   "outputs": [
    {
     "name": "stdout",
     "output_type": "stream",
     "text": [
      "Number of neigbours is 1\n",
      "[0.11160407383831952, 0.358498727735369]\n",
      "Number of neigbours is 2\n",
      "[0.1980458306810948, 0.36867684478371493]\n",
      "Number of neigbours is 3\n",
      "[0.19595162316995549, 0.3358778625954201]\n",
      "Number of neigbours is 4\n",
      "[0.22662635264162959, 0.3555470737913485]\n",
      "Number of neigbours is 5\n",
      "[0.23429662635264165, 0.33671755725190833]\n",
      "Number of neigbours is 6\n",
      "[0.2520942075111394, 0.34628498727735374]\n",
      "Number of neigbours is 7\n",
      "[0.2524379376193507, 0.3224681933842239]\n",
      "Number of neigbours is 8\n",
      "[0.2607893061744112, 0.33582697201017825]\n",
      "Number of neigbours is 9\n",
      "[0.2611648631444939, 0.3170483460559797]\n",
      "Number of neigbours is 10\n",
      "[0.2678612348822407, 0.327379134860051]\n",
      "Number of neigbours is 11\n",
      "[0.26811584977721203, 0.31480916030534345]\n",
      "Number of neigbours is 12\n",
      "[0.2734882240611076, 0.32206106870229]\n",
      "Number of neigbours is 13\n",
      "[0.27534054742202413, 0.31450381679389305]\n",
      "Number of neigbours is 14\n",
      "[0.2795480585614257, 0.32605597964376587]\n",
      "Number of neigbours is 15\n",
      "[0.27914704010184593, 0.311908396946565]\n"
     ]
    },
    {
     "data": {
      "text/plain": [
       "{1: [0.11160407383831952, 0.358498727735369],\n",
       " 2: [0.1980458306810948, 0.36867684478371493],\n",
       " 3: [0.19595162316995549, 0.3358778625954201],\n",
       " 4: [0.22662635264162959, 0.3555470737913485],\n",
       " 5: [0.23429662635264165, 0.33671755725190833],\n",
       " 6: [0.2520942075111394, 0.34628498727735374],\n",
       " 7: [0.2524379376193507, 0.3224681933842239],\n",
       " 8: [0.2607893061744112, 0.33582697201017825],\n",
       " 9: [0.2611648631444939, 0.3170483460559797],\n",
       " 10: [0.2678612348822407, 0.327379134860051],\n",
       " 11: [0.26811584977721203, 0.31480916030534345],\n",
       " 12: [0.2734882240611076, 0.32206106870229],\n",
       " 13: [0.27534054742202413, 0.31450381679389305],\n",
       " 14: [0.2795480585614257, 0.32605597964376587],\n",
       " 15: [0.27914704010184593, 0.311908396946565]}"
      ]
     },
     "execution_count": 119,
     "metadata": {},
     "output_type": "execute_result"
    }
   ],
   "source": [
    "# We will implement up to 16 nearet neighbours in our analysis\n",
    "\n",
    "#train_error = []\n",
    "\n",
    "#test_error = []\n",
    "\n",
    "knn_many_split = {}\n",
    "\n",
    "erro_df_knn = pd.DataFrame()\n",
    "\n",
    "for k in range(1,16):\n",
    "    \n",
    "    train_error = []\n",
    "    test_error = []\n",
    "    lista = []\n",
    "    knn = KNeighborsClassifier(n_neighbors=k)\n",
    "    print('Number of neigbours is', k)\n",
    "        \n",
    "    for i in range(100):\n",
    "        x_train, x_test, y_train, y_test = train_test_split(ml_data[features], ml_data['Outcome'], test_size=0.2)\n",
    "        \n",
    "        x_train = ss.fit_transform(x_train)\n",
    "        x_test = ss.transform(x_test)\n",
    "        \n",
    "        # Fitting the knn model\n",
    "        knn.fit(x_train, y_train)\n",
    "        \n",
    "        train_error.append(1 - knn.score(x_train,y_train))\n",
    "        test_error.append(1-knn.score(x_test,y_test))\n",
    "\n",
    "        \n",
    "    lista.append(sum(train_error)/len(train_error))\n",
    "    lista.append(sum(test_error)/len(test_error))\n",
    "    \n",
    "    knn_many_split[k] = lista\n",
    "    print(knn_many_split[k])\n",
    "\n",
    "knn_many_split"
   ]
  },
  {
   "cell_type": "code",
   "execution_count": 127,
   "id": "b0a0a530",
   "metadata": {},
   "outputs": [],
   "source": [
    "# Let's plot the training and test error to see the differences\n",
    "\n",
    "kl = []\n",
    "vl = []\n",
    "v2 = []\n",
    "\n",
    "for k,v in knn_many_split.items():\n",
    "    \n",
    "    kl.append(k)\n",
    "    \n",
    "    vl.append(knn_many_split[k][1])\n",
    "    \n",
    "    v2.append(knn_many_split[k][0])\n"
   ]
  },
  {
   "cell_type": "code",
   "execution_count": 129,
   "id": "3400581d",
   "metadata": {},
   "outputs": [
    {
     "data": {
      "image/png": "[encoded data removed]",
      "text/plain": [
       "<Figure size 720x576 with 1 Axes>"
      ]
     },
     "metadata": {
      "needs_background": "light"
     },
     "output_type": "display_data"
    }
   ],
   "source": [
    "# Let's plot the differences between both types of errors\n",
    "\n",
    "plt.figure(figsize = (10,8))\n",
    "\n",
    "plt.xlabel('Number of Neighbours (k)')\n",
    "\n",
    "plt.ylabel('Error')\n",
    "\n",
    "plt.plot(kl,vl, label = 'Test Error')\n",
    "\n",
    "plt.plot(kl,v2, label = 'Train Error')\n",
    "\n",
    "plt.legend()\n",
    "\n",
    "plt.show()"
   ]
  },
  {
   "cell_type": "markdown",
   "id": "cf998379",
   "metadata": {},
   "source": [
    "## Results knn\n",
    "\n",
    "As we can see from the below graph, the error in the test and train data tends to a value somewhere near 0.28. Eventhough it increased, as opposed from the Logistic Regression model, it still has much room for improvement. It is now clear that various ML models can end up yielding different results. \n",
    "\n",
    "* The accuracy improved"
   ]
  },
  {
   "cell_type": "markdown",
   "id": "2b968896",
   "metadata": {},
   "source": [
    "#  Decision Tree"
   ]
  },
  {
   "cell_type": "code",
   "execution_count": 155,
   "id": "d5f01887",
   "metadata": {},
   "outputs": [
    {
     "data": {
      "text/plain": [
       "0    841\n",
       "1    730\n",
       "Name: Outcome, dtype: int64"
      ]
     },
     "execution_count": 155,
     "metadata": {},
     "output_type": "execute_result"
    }
   ],
   "source": [
    "from sklearn.tree import DecisionTreeClassifier\n",
    "import seaborn as sns\n",
    "\n",
    "# Let's provide the model with class weights so that it does not become biased towards a dominant value\n",
    "x_train, x_test, y_train, y_test = train_test_split(ml_data[features], ml_data['Outcome'], test_size=0.2)\n",
    "y_train.value_counts()"
   ]
  },
  {
   "cell_type": "code",
   "execution_count": 157,
   "id": "9e8697bb",
   "metadata": {},
   "outputs": [],
   "source": [
    "weight_failure = y_train.value_counts()[0]/y_train.count()\n",
    "weight_success = y_train.value_counts()[1]/y_train.count()"
   ]
  },
  {
   "cell_type": "code",
   "execution_count": 158,
   "id": "8187de07",
   "metadata": {},
   "outputs": [
    {
     "data": {
      "text/plain": [
       "DecisionTreeClassifier(class_weight={0: 0.5353278166772756,\n",
       "                                     1: 0.46467218332272436},\n",
       "                       random_state=1)"
      ]
     },
     "execution_count": 158,
     "metadata": {},
     "output_type": "execute_result"
    }
   ],
   "source": [
    "dt = DecisionTreeClassifier(class_weight={0:weight_failure, 1:weight_success}, random_state=1)\n",
    "dt.fit(x_train,y_train)"
   ]
  },
  {
   "cell_type": "code",
   "execution_count": 159,
   "id": "6b1f7d7c",
   "metadata": {},
   "outputs": [
    {
     "name": "stdout",
     "output_type": "stream",
     "text": [
      "              precision    recall  f1-score   support\n",
      "\n",
      "           0       0.89      0.93      0.91       841\n",
      "           1       0.91      0.87      0.89       730\n",
      "\n",
      "    accuracy                           0.90      1571\n",
      "   macro avg       0.90      0.90      0.90      1571\n",
      "weighted avg       0.90      0.90      0.90      1571\n",
      "\n"
     ]
    },
    {
     "data": {
      "image/png": "[encoded data removed]",
      "text/plain": [
       "<Figure size 576x360 with 2 Axes>"
      ]
     },
     "metadata": {
      "needs_background": "light"
     },
     "output_type": "display_data"
    }
   ],
   "source": [
    "# Let's now check the model's performance\n",
    "\n",
    "y_train_pred_dt = dt.predict(x_train)\n",
    "\n",
    "\n",
    "print(classification_report(y_train, y_train_pred_dt))\n",
    "\n",
    "cm = confusion_matrix(y_train, y_train_pred_dt)\n",
    "\n",
    "plt.figure(figsize=(8,5))\n",
    "\n",
    "sns.heatmap(cm, annot = True, fmt = '.2f', xticklabels = ['Failure', 'Success'], yticklabels = ['Failure', 'Success'])\n",
    "\n",
    "plt.ylabel('Actual')\n",
    "\n",
    "plt.xlabel('Predicted')\n",
    "\n",
    "plt.show()\n"
   ]
  },
  {
   "cell_type": "markdown",
   "id": "89748e01",
   "metadata": {},
   "source": [
    "### Train set\n",
    "\n",
    "The decision tree model for the training set yield 90% overall accuracy. Let's test it with the test dataset"
   ]
  },
  {
   "cell_type": "code",
   "execution_count": 160,
   "id": "19ab4b9e",
   "metadata": {},
   "outputs": [
    {
     "name": "stdout",
     "output_type": "stream",
     "text": [
      "              precision    recall  f1-score   support\n",
      "\n",
      "           0       0.67      0.67      0.67       210\n",
      "           1       0.62      0.61      0.62       183\n",
      "\n",
      "    accuracy                           0.64       393\n",
      "   macro avg       0.64      0.64      0.64       393\n",
      "weighted avg       0.64      0.64      0.64       393\n",
      "\n"
     ]
    },
    {
     "data": {
      "image/png": "[encoded data removed]",
      "text/plain": [
       "<Figure size 576x360 with 2 Axes>"
      ]
     },
     "metadata": {
      "needs_background": "light"
     },
     "output_type": "display_data"
    }
   ],
   "source": [
    "y_test_predict_dt = dt.predict(x_test)\n",
    "\n",
    "print(classification_report(y_test, y_test_predict_dt))\n",
    "\n",
    "cm = confusion_matrix(y_test, y_test_predict_dt)\n",
    "\n",
    "plt.figure(figsize=(8,5))\n",
    "\n",
    "sns.heatmap(cm, annot = True, fmt = '.2f', xticklabels = ['Failure', 'Success'], yticklabels = ['Failure', 'Success'])\n",
    "\n",
    "plt.ylabel('Actual')\n",
    "\n",
    "plt.xlabel('Predicted')\n",
    "\n",
    "plt.show()"
   ]
  },
  {
   "cell_type": "markdown",
   "id": "f82edce4",
   "metadata": {},
   "source": [
    "## Test dataset\n",
    "\n",
    "Here for the test dataset the accuracy was 64% which is approximately 8% lower than in the KNN method."
   ]
  },
  {
   "cell_type": "code",
   "execution_count": 163,
   "id": "b09715ac",
   "metadata": {},
   "outputs": [
    {
     "name": "stderr",
     "output_type": "stream",
     "text": [
      "C:\\Users\\Lenovo\\anaconda3\\lib\\site-packages\\seaborn\\_decorators.py:36: FutureWarning: Pass the following variables as keyword args: x, y. From version 0.12, the only valid positional argument will be `data`, and passing other arguments without an explicit keyword will result in an error or misinterpretation.\n",
      "  warnings.warn(\n"
     ]
    },
    {
     "data": {
      "text/plain": [
       "<AxesSubplot:xlabel='Importance'>"
      ]
     },
     "execution_count": 163,
     "metadata": {},
     "output_type": "execute_result"
    },
    {
     "data": {
      "image/png": "[encoded data removed]",
      "text/plain": [
       "<Figure size 720x576 with 1 Axes>"
      ]
     },
     "metadata": {
      "needs_background": "light"
     },
     "output_type": "display_data"
    }
   ],
   "source": [
    "# Let's see the relevance of each variable\n",
    "\n",
    "importances = dt.feature_importances_\n",
    "\n",
    "columns =  ml_data.drop(['Outcome'] , axis = 1).columns\n",
    "\n",
    "importance_df = pd.DataFrame(importances, index = columns, columns= ['Importance']).sort_values(by = 'Importance', ascending = False)\n",
    "\n",
    "plt.figure(figsize=(10,8))\n",
    "\n",
    "sns.barplot(importance_df.Importance, importance_df.index)\n"
   ]
  },
  {
   "cell_type": "markdown",
   "id": "78bf31c3",
   "metadata": {},
   "source": [
    "# Final conclusions\n",
    "\n",
    "As it could be seen, there is a relation between the success of the marketing campaign of the bank and whether or not the users were given a loan, whether they have deposits and the balance on their accounts. Various Machine Learning models were implemented to test this out using tools such as SQL, Pandas, Pythons and statistic libraries within this programming language, Further analysis can be done to obtain a suitable prediction that satisfies the task at hand, however with this a relationship is proved to exist.\n",
    "\n",
    "As a initial analysis of the hypothesis of this last problem hyphothesis, this work served its objective. The models were not accurate enough (setting 85% as a 'good' threshold) when predicting the outcome of the campaign, but accomplished the objective of identifying the importance of each of the analysed variables."
   ]
  }
 ],
 "metadata": {
  "kernelspec": {
   "display_name": "Python 3 (ipykernel)",
   "language": "python",
   "name": "python3"
  },
  "language_info": {
   "codemirror_mode": {
    "name": "ipython",
    "version": 3
   },
   "file_extension": ".py",
   "mimetype": "text/x-python",
   "name": "python",
   "nbconvert_exporter": "python",
   "pygments_lexer": "ipython3",
   "version": "3.9.12"
  }
 },
 "nbformat": 4,
 "nbformat_minor": 5
}
